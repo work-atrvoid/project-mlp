{
 "cells": [
  {
   "cell_type": "markdown",
   "id": "1255cda1-dc79-4f02-b7f0-29c7f41aa9da",
   "metadata": {
    "panel-layout": {
     "height": 373.7833251953125,
     "visible": true,
     "width": 100
    }
   },
   "source": [
    "## Introduction\n",
    "---\n",
    "- We have a dataset containing information about fishes and their features. \n",
    "- The goal is to predict a fish's `Weight` based on these features.\n",
    "\n",
    "- Our dataset contains:\n",
    "    - Species: This column represents the species of the fish. It is a categorical variable that categorizes each fish into one of seven species. The species may include names like \"Perch,\" \"Bream,\" \"Roach,\" \"Pike,\" \"Smelt,\" \"Parkki,\" and \"Whitefish.\" This column is the target variable for the polynomial regression analysis, where we aim to predict the fish's weight based on its other attributes.\n",
    "\n",
    "    - Weight: This column represents the weight of the fish. It is a numerical variable that is typically measured in grams. The weight is the dependent variable we want to predict using polynomial regression.\n",
    "\n",
    "    - Length1: This column represents the first measurement of the fish's length. It is a numerical variable, typically measured in centimetres.\n",
    "\n",
    "    - Length2: This column represents the second measurement of the fish's length. It is another numerical variable, typically measured in centimetres.\n",
    "\n",
    "    - Length3: This column represents the third measurement of the fish's length. Similar to the previous two columns, it is a numerical variable, usually measured in centimetres.\n",
    "\n",
    "    - Height: This column represents the height of the fish. It is a numerical variable, typically measured in centimetres.\n",
    "\n",
    "    - Width: This column represents the width of the fish. Like the other numerical variables, it is also typically measured in centimetres."
   ]
  },
  {
   "cell_type": "markdown",
   "id": "8438598f-920f-47d8-98eb-2195e70b4f8b",
   "metadata": {
    "panel-layout": {
     "height": 58.68333435058594,
     "visible": true,
     "width": 100
    }
   },
   "source": [
    "## Initial libraries and functions\n",
    "---"
   ]
  },
  {
   "cell_type": "code",
   "execution_count": 1,
   "id": "7e955246-5936-4f6a-8174-02cdb2d4d901",
   "metadata": {},
   "outputs": [],
   "source": [
    "import numpy as np\n",
    "import pandas as pd\n",
    "import matplotlib.pyplot as plt\n",
    "import seaborn as sns\n",
    "\n",
    "from sklearn.preprocessing import StandardScaler\n",
    "from sklearn.model_selection import train_test_split\n",
    "from sklearn.linear_model import LinearRegression\n",
    "from sklearn.preprocessing import PolynomialFeatures\n",
    "from sklearn.metrics import r2_score, mean_absolute_error, mean_squared_error"
   ]
  },
  {
   "cell_type": "code",
   "execution_count": 2,
   "id": "2cde063b-95ef-4794-b48f-428138fbab51",
   "metadata": {},
   "outputs": [],
   "source": [
    "def model_evaluation(y_test, y_hat) -> None:\n",
    "    print('R2 score            = ', r2_score(y_test, y_hat))\n",
    "    print('Mean absolute error = ', mean_absolute_error(y_test, y_hat))\n",
    "    print('Mean squared error  = ', mean_squared_error(y_test, y_hat))"
   ]
  },
  {
   "cell_type": "markdown",
   "id": "2c2df962-37ee-4959-a9d3-d1d49505abd9",
   "metadata": {
    "panel-layout": {
     "height": 94.2833251953125,
     "visible": true,
     "width": 100
    }
   },
   "source": [
    "## Exploratory Data Analysis (EDA) \n",
    "---\n",
    "- Dataset looks clean, doesn't require cleaning that much."
   ]
  },
  {
   "cell_type": "code",
   "execution_count": 3,
   "id": "9d67a9dd-5aac-490b-b49c-fb67caf0a592",
   "metadata": {
    "panel-layout": {
     "height": 170.9166717529297,
     "visible": true,
     "width": 100
    }
   },
   "outputs": [
    {
     "data": {
      "text/html": [
       "<div>\n",
       "<style scoped>\n",
       "    .dataframe tbody tr th:only-of-type {\n",
       "        vertical-align: middle;\n",
       "    }\n",
       "\n",
       "    .dataframe tbody tr th {\n",
       "        vertical-align: top;\n",
       "    }\n",
       "\n",
       "    .dataframe thead th {\n",
       "        text-align: right;\n",
       "    }\n",
       "</style>\n",
       "<table border=\"1\" class=\"dataframe\">\n",
       "  <thead>\n",
       "    <tr style=\"text-align: right;\">\n",
       "      <th></th>\n",
       "      <th>Species</th>\n",
       "      <th>Weight</th>\n",
       "      <th>Length1</th>\n",
       "      <th>Length2</th>\n",
       "      <th>Length3</th>\n",
       "      <th>Height</th>\n",
       "      <th>Width</th>\n",
       "    </tr>\n",
       "  </thead>\n",
       "  <tbody>\n",
       "    <tr>\n",
       "      <th>0</th>\n",
       "      <td>Bream</td>\n",
       "      <td>242.0</td>\n",
       "      <td>23.2</td>\n",
       "      <td>25.4</td>\n",
       "      <td>30.0</td>\n",
       "      <td>11.5200</td>\n",
       "      <td>4.0200</td>\n",
       "    </tr>\n",
       "    <tr>\n",
       "      <th>1</th>\n",
       "      <td>Bream</td>\n",
       "      <td>290.0</td>\n",
       "      <td>24.0</td>\n",
       "      <td>26.3</td>\n",
       "      <td>31.2</td>\n",
       "      <td>12.4800</td>\n",
       "      <td>4.3056</td>\n",
       "    </tr>\n",
       "    <tr>\n",
       "      <th>2</th>\n",
       "      <td>Bream</td>\n",
       "      <td>340.0</td>\n",
       "      <td>23.9</td>\n",
       "      <td>26.5</td>\n",
       "      <td>31.1</td>\n",
       "      <td>12.3778</td>\n",
       "      <td>4.6961</td>\n",
       "    </tr>\n",
       "    <tr>\n",
       "      <th>3</th>\n",
       "      <td>Bream</td>\n",
       "      <td>363.0</td>\n",
       "      <td>26.3</td>\n",
       "      <td>29.0</td>\n",
       "      <td>33.5</td>\n",
       "      <td>12.7300</td>\n",
       "      <td>4.4555</td>\n",
       "    </tr>\n",
       "    <tr>\n",
       "      <th>4</th>\n",
       "      <td>Bream</td>\n",
       "      <td>430.0</td>\n",
       "      <td>26.5</td>\n",
       "      <td>29.0</td>\n",
       "      <td>34.0</td>\n",
       "      <td>12.4440</td>\n",
       "      <td>5.1340</td>\n",
       "    </tr>\n",
       "  </tbody>\n",
       "</table>\n",
       "</div>"
      ],
      "text/plain": [
       "  Species  Weight  Length1  Length2  Length3   Height   Width\n",
       "0   Bream   242.0     23.2     25.4     30.0  11.5200  4.0200\n",
       "1   Bream   290.0     24.0     26.3     31.2  12.4800  4.3056\n",
       "2   Bream   340.0     23.9     26.5     31.1  12.3778  4.6961\n",
       "3   Bream   363.0     26.3     29.0     33.5  12.7300  4.4555\n",
       "4   Bream   430.0     26.5     29.0     34.0  12.4440  5.1340"
      ]
     },
     "execution_count": 3,
     "metadata": {},
     "output_type": "execute_result"
    }
   ],
   "source": [
    "df = pd.read_csv('fish.csv')\n",
    "df.head()"
   ]
  },
  {
   "cell_type": "code",
   "execution_count": 4,
   "id": "9eb325e8-886f-4b8d-8627-1e4dd488046a",
   "metadata": {
    "panel-layout": {
     "height": 0,
     "visible": true,
     "width": 100
    }
   },
   "outputs": [
    {
     "name": "stdout",
     "output_type": "stream",
     "text": [
      "<class 'pandas.core.frame.DataFrame'>\n",
      "RangeIndex: 159 entries, 0 to 158\n",
      "Data columns (total 7 columns):\n",
      " #   Column   Non-Null Count  Dtype  \n",
      "---  ------   --------------  -----  \n",
      " 0   Species  159 non-null    object \n",
      " 1   Weight   159 non-null    float64\n",
      " 2   Length1  159 non-null    float64\n",
      " 3   Length2  159 non-null    float64\n",
      " 4   Length3  159 non-null    float64\n",
      " 5   Height   159 non-null    float64\n",
      " 6   Width    159 non-null    float64\n",
      "dtypes: float64(6), object(1)\n",
      "memory usage: 8.8+ KB\n"
     ]
    }
   ],
   "source": [
    "df.info()"
   ]
  },
  {
   "cell_type": "code",
   "execution_count": 5,
   "id": "5e9b8b01-ad87-4180-b0d2-fbd6790ddac6",
   "metadata": {
    "panel-layout": {
     "height": 380,
     "visible": true,
     "width": 100
    }
   },
   "outputs": [
    {
     "data": {
      "text/plain": [
       "<seaborn.axisgrid.PairGrid at 0x2b849f88ed0>"
      ]
     },
     "execution_count": 5,
     "metadata": {},
     "output_type": "execute_result"
    },
    {
     "data": {
      "image/png": "[encoded data removed]",
      "text/plain": [
       "<Figure size 1365.12x250 with 5 Axes>"
      ]
     },
     "metadata": {},
     "output_type": "display_data"
    }
   ],
   "source": [
    "sns.pairplot(data=df, x_vars=df.columns[2:], y_vars='Weight', hue='Species')"
   ]
  },
  {
   "cell_type": "markdown",
   "id": "b32e66bd-95b8-4692-9940-cc68811fbed5",
   "metadata": {
    "panel-layout": {
     "height": 111.88333129882812,
     "visible": true,
     "width": 100
    }
   },
   "source": [
    "## Simple polynomial regression\n",
    "---\n",
    "- As an example, we will apply simple polynomial regression between `Width` and `Weight`.\n",
    "- Based on the charts above, we can observe a clear relationship between these two features."
   ]
  },
  {
   "cell_type": "markdown",
   "id": "17db8631-ad13-4c5d-b89c-ce2195d2acc6",
   "metadata": {
    "panel-layout": {
     "height": 44.08332824707031,
     "visible": true,
     "width": 100
    }
   },
   "source": [
    "### Preprocessing"
   ]
  },
  {
   "cell_type": "code",
   "execution_count": 6,
   "id": "96043e3b-5aea-418d-9e50-3f0cfad85e1b",
   "metadata": {},
   "outputs": [],
   "source": [
    "X, y = df[['Width']], df[['Weight']]\n",
    "\n",
    "X_poly = PolynomialFeatures(degree=2).fit_transform(X)\n",
    "\n",
    "X_train, X_test, y_train, y_test = train_test_split(X_poly, y, test_size=0.2)"
   ]
  },
  {
   "cell_type": "markdown",
   "id": "32d79381-2e58-4508-a409-41901eb63ac5",
   "metadata": {
    "panel-layout": {
     "height": 44.083343505859375,
     "visible": true,
     "width": 100
    }
   },
   "source": [
    "### Training our model"
   ]
  },
  {
   "cell_type": "code",
   "execution_count": 7,
   "id": "eff774cf-ad4b-4dbb-b8b2-63931bf0e51d",
   "metadata": {
    "panel-layout": {
     "height": 370,
     "visible": true,
     "width": 100
    }
   },
   "outputs": [
    {
     "name": "stdout",
     "output_type": "stream",
     "text": [
      "Coefficient :  [[ 0.         -4.50290248 22.13022805]]\n",
      "Intercept :  [-74.52740771]\n"
     ]
    }
   ],
   "source": [
    "model = LinearRegression().fit(X_train, y_train)\n",
    "\n",
    "print('Coefficient : ', model.coef_)\n",
    "print('Intercept : ', model.intercept_)"
   ]
  },
  {
   "cell_type": "markdown",
   "id": "bb3f5912-0c17-4224-bb05-3b5209aa758f",
   "metadata": {
    "panel-layout": {
     "height": 44.08332824707031,
     "visible": true,
     "width": 100
    }
   },
   "source": [
    "### Plotting and evaluating our model"
   ]
  },
  {
   "cell_type": "code",
   "execution_count": 8,
   "id": "38a16bad-f360-4de5-9a2a-5177b3d53cae",
   "metadata": {
    "panel-layout": {
     "height": 397.1500244140625,
     "visible": true,
     "width": 100
    },
    "scrolled": true
   },
   "outputs": [
    {
     "data": {
      "text/plain": [
       "[<matplotlib.lines.Line2D at 0x2b84a381e10>]"
      ]
     },
     "execution_count": 8,
     "metadata": {},
     "output_type": "execute_result"
    },
    {
     "data": {
      "image/png": "[encoded data removed]",
      "text/plain": [
       "<Figure size 640x480 with 1 Axes>"
      ]
     },
     "metadata": {},
     "output_type": "display_data"
    }
   ],
   "source": [
    "plt.scatter(X, y)\n",
    "\n",
    "plt.xlabel('Width')\n",
    "plt.ylabel('Weight')\n",
    "\n",
    "X_dummy = np.linspace(X.min(), X.max(), 100)\n",
    "\n",
    "plt.plot(\n",
    "    X_dummy,\n",
    "    (X_dummy ** 2) * model.coef_[0][2] + X_dummy * model.coef_[0][1] + model.intercept_,\n",
    "    'r'\n",
    ")"
   ]
  },
  {
   "cell_type": "code",
   "execution_count": 9,
   "id": "756afae4-2a96-49bd-b9b1-384c1dfaf86b",
   "metadata": {
    "panel-layout": {
     "height": 370,
     "visible": true,
     "width": 100
    }
   },
   "outputs": [
    {
     "name": "stdout",
     "output_type": "stream",
     "text": [
      "R2 score            =  0.9142500771775218\n",
      "Mean absolute error =  71.3875477798396\n",
      "Mean squared error  =  8812.54071704324\n"
     ]
    }
   ],
   "source": [
    "y_hat = model.predict(X_test)\n",
    "\n",
    "model_evaluation(y_test, y_hat)"
   ]
  },
  {
   "cell_type": "markdown",
   "id": "acefdffe-8909-4eac-b8e4-e2c27a80ca3a",
   "metadata": {
    "panel-layout": {
     "height": 111.88333129882812,
     "visible": true,
     "width": 100
    }
   },
   "source": [
    "## Multiple polynomial regression\n",
    "---\n",
    "- Because we have different species, we should turn this categorical feature into binary fields (known as one-hot encoding).\n",
    "- Also, we have multiple features, it is better to normalize our data too before proceeding."
   ]
  },
  {
   "cell_type": "markdown",
   "id": "fd6ab299-9e37-4446-8e77-386b9d438514",
   "metadata": {
    "panel-layout": {
     "height": 44.08332824707031,
     "visible": true,
     "width": 100
    }
   },
   "source": [
    "### Preprocessing"
   ]
  },
  {
   "cell_type": "code",
   "execution_count": 10,
   "id": "3a647304-8628-4357-aa3f-8237057bf92b",
   "metadata": {
    "panel-layout": {
     "height": 4647.58349609375,
     "visible": true,
     "width": 100
    }
   },
   "outputs": [
    {
     "data": {
      "text/html": [
       "<div>\n",
       "<style scoped>\n",
       "    .dataframe tbody tr th:only-of-type {\n",
       "        vertical-align: middle;\n",
       "    }\n",
       "\n",
       "    .dataframe tbody tr th {\n",
       "        vertical-align: top;\n",
       "    }\n",
       "\n",
       "    .dataframe thead th {\n",
       "        text-align: right;\n",
       "    }\n",
       "</style>\n",
       "<table border=\"1\" class=\"dataframe\">\n",
       "  <thead>\n",
       "    <tr style=\"text-align: right;\">\n",
       "      <th></th>\n",
       "      <th>Length1</th>\n",
       "      <th>Length2</th>\n",
       "      <th>Length3</th>\n",
       "      <th>Height</th>\n",
       "      <th>Width</th>\n",
       "      <th>Species_Bream</th>\n",
       "      <th>Species_Parkki</th>\n",
       "      <th>Species_Perch</th>\n",
       "      <th>Species_Pike</th>\n",
       "      <th>Species_Roach</th>\n",
       "      <th>Species_Smelt</th>\n",
       "      <th>Species_Whitefish</th>\n",
       "    </tr>\n",
       "  </thead>\n",
       "  <tbody>\n",
       "    <tr>\n",
       "      <th>0</th>\n",
       "      <td>23.2</td>\n",
       "      <td>25.4</td>\n",
       "      <td>30.0</td>\n",
       "      <td>11.5200</td>\n",
       "      <td>4.0200</td>\n",
       "      <td>1</td>\n",
       "      <td>0</td>\n",
       "      <td>0</td>\n",
       "      <td>0</td>\n",
       "      <td>0</td>\n",
       "      <td>0</td>\n",
       "      <td>0</td>\n",
       "    </tr>\n",
       "    <tr>\n",
       "      <th>1</th>\n",
       "      <td>24.0</td>\n",
       "      <td>26.3</td>\n",
       "      <td>31.2</td>\n",
       "      <td>12.4800</td>\n",
       "      <td>4.3056</td>\n",
       "      <td>1</td>\n",
       "      <td>0</td>\n",
       "      <td>0</td>\n",
       "      <td>0</td>\n",
       "      <td>0</td>\n",
       "      <td>0</td>\n",
       "      <td>0</td>\n",
       "    </tr>\n",
       "    <tr>\n",
       "      <th>2</th>\n",
       "      <td>23.9</td>\n",
       "      <td>26.5</td>\n",
       "      <td>31.1</td>\n",
       "      <td>12.3778</td>\n",
       "      <td>4.6961</td>\n",
       "      <td>1</td>\n",
       "      <td>0</td>\n",
       "      <td>0</td>\n",
       "      <td>0</td>\n",
       "      <td>0</td>\n",
       "      <td>0</td>\n",
       "      <td>0</td>\n",
       "    </tr>\n",
       "    <tr>\n",
       "      <th>3</th>\n",
       "      <td>26.3</td>\n",
       "      <td>29.0</td>\n",
       "      <td>33.5</td>\n",
       "      <td>12.7300</td>\n",
       "      <td>4.4555</td>\n",
       "      <td>1</td>\n",
       "      <td>0</td>\n",
       "      <td>0</td>\n",
       "      <td>0</td>\n",
       "      <td>0</td>\n",
       "      <td>0</td>\n",
       "      <td>0</td>\n",
       "    </tr>\n",
       "    <tr>\n",
       "      <th>4</th>\n",
       "      <td>26.5</td>\n",
       "      <td>29.0</td>\n",
       "      <td>34.0</td>\n",
       "      <td>12.4440</td>\n",
       "      <td>5.1340</td>\n",
       "      <td>1</td>\n",
       "      <td>0</td>\n",
       "      <td>0</td>\n",
       "      <td>0</td>\n",
       "      <td>0</td>\n",
       "      <td>0</td>\n",
       "      <td>0</td>\n",
       "    </tr>\n",
       "    <tr>\n",
       "      <th>...</th>\n",
       "      <td>...</td>\n",
       "      <td>...</td>\n",
       "      <td>...</td>\n",
       "      <td>...</td>\n",
       "      <td>...</td>\n",
       "      <td>...</td>\n",
       "      <td>...</td>\n",
       "      <td>...</td>\n",
       "      <td>...</td>\n",
       "      <td>...</td>\n",
       "      <td>...</td>\n",
       "      <td>...</td>\n",
       "    </tr>\n",
       "    <tr>\n",
       "      <th>154</th>\n",
       "      <td>11.5</td>\n",
       "      <td>12.2</td>\n",
       "      <td>13.4</td>\n",
       "      <td>2.0904</td>\n",
       "      <td>1.3936</td>\n",
       "      <td>0</td>\n",
       "      <td>0</td>\n",
       "      <td>0</td>\n",
       "      <td>0</td>\n",
       "      <td>0</td>\n",
       "      <td>1</td>\n",
       "      <td>0</td>\n",
       "    </tr>\n",
       "    <tr>\n",
       "      <th>155</th>\n",
       "      <td>11.7</td>\n",
       "      <td>12.4</td>\n",
       "      <td>13.5</td>\n",
       "      <td>2.4300</td>\n",
       "      <td>1.2690</td>\n",
       "      <td>0</td>\n",
       "      <td>0</td>\n",
       "      <td>0</td>\n",
       "      <td>0</td>\n",
       "      <td>0</td>\n",
       "      <td>1</td>\n",
       "      <td>0</td>\n",
       "    </tr>\n",
       "    <tr>\n",
       "      <th>156</th>\n",
       "      <td>12.1</td>\n",
       "      <td>13.0</td>\n",
       "      <td>13.8</td>\n",
       "      <td>2.2770</td>\n",
       "      <td>1.2558</td>\n",
       "      <td>0</td>\n",
       "      <td>0</td>\n",
       "      <td>0</td>\n",
       "      <td>0</td>\n",
       "      <td>0</td>\n",
       "      <td>1</td>\n",
       "      <td>0</td>\n",
       "    </tr>\n",
       "    <tr>\n",
       "      <th>157</th>\n",
       "      <td>13.2</td>\n",
       "      <td>14.3</td>\n",
       "      <td>15.2</td>\n",
       "      <td>2.8728</td>\n",
       "      <td>2.0672</td>\n",
       "      <td>0</td>\n",
       "      <td>0</td>\n",
       "      <td>0</td>\n",
       "      <td>0</td>\n",
       "      <td>0</td>\n",
       "      <td>1</td>\n",
       "      <td>0</td>\n",
       "    </tr>\n",
       "    <tr>\n",
       "      <th>158</th>\n",
       "      <td>13.8</td>\n",
       "      <td>15.0</td>\n",
       "      <td>16.2</td>\n",
       "      <td>2.9322</td>\n",
       "      <td>1.8792</td>\n",
       "      <td>0</td>\n",
       "      <td>0</td>\n",
       "      <td>0</td>\n",
       "      <td>0</td>\n",
       "      <td>0</td>\n",
       "      <td>1</td>\n",
       "      <td>0</td>\n",
       "    </tr>\n",
       "  </tbody>\n",
       "</table>\n",
       "<p>159 rows × 12 columns</p>\n",
       "</div>"
      ],
      "text/plain": [
       "     Length1  Length2  Length3   Height   Width  Species_Bream  \\\n",
       "0       23.2     25.4     30.0  11.5200  4.0200              1   \n",
       "1       24.0     26.3     31.2  12.4800  4.3056              1   \n",
       "2       23.9     26.5     31.1  12.3778  4.6961              1   \n",
       "3       26.3     29.0     33.5  12.7300  4.4555              1   \n",
       "4       26.5     29.0     34.0  12.4440  5.1340              1   \n",
       "..       ...      ...      ...      ...     ...            ...   \n",
       "154     11.5     12.2     13.4   2.0904  1.3936              0   \n",
       "155     11.7     12.4     13.5   2.4300  1.2690              0   \n",
       "156     12.1     13.0     13.8   2.2770  1.2558              0   \n",
       "157     13.2     14.3     15.2   2.8728  2.0672              0   \n",
       "158     13.8     15.0     16.2   2.9322  1.8792              0   \n",
       "\n",
       "     Species_Parkki  Species_Perch  Species_Pike  Species_Roach  \\\n",
       "0                 0              0             0              0   \n",
       "1                 0              0             0              0   \n",
       "2                 0              0             0              0   \n",
       "3                 0              0             0              0   \n",
       "4                 0              0             0              0   \n",
       "..              ...            ...           ...            ...   \n",
       "154               0              0             0              0   \n",
       "155               0              0             0              0   \n",
       "156               0              0             0              0   \n",
       "157               0              0             0              0   \n",
       "158               0              0             0              0   \n",
       "\n",
       "     Species_Smelt  Species_Whitefish  \n",
       "0                0                  0  \n",
       "1                0                  0  \n",
       "2                0                  0  \n",
       "3                0                  0  \n",
       "4                0                  0  \n",
       "..             ...                ...  \n",
       "154              1                  0  \n",
       "155              1                  0  \n",
       "156              1                  0  \n",
       "157              1                  0  \n",
       "158              1                  0  \n",
       "\n",
       "[159 rows x 12 columns]"
      ]
     },
     "execution_count": 10,
     "metadata": {},
     "output_type": "execute_result"
    }
   ],
   "source": [
    "X, y = df.drop('Weight', axis=1), df[['Weight']]\n",
    "\n",
    "X = pd.get_dummies(X, columns=['Species'], dtype=int)\n",
    "X"
   ]
  },
  {
   "cell_type": "code",
   "execution_count": 11,
   "id": "813c4912-63af-4090-937d-cdb00b3835aa",
   "metadata": {},
   "outputs": [],
   "source": [
    "scaler = StandardScaler()\n",
    "X, y = scaler.fit_transform(X), scaler.fit_transform(y)\n",
    "\n",
    "X_poly = PolynomialFeatures(degree=2).fit_transform(X)\n",
    "\n",
    "X_train, X_test, y_train, y_test = train_test_split(X_poly, y, test_size=0.2)"
   ]
  },
  {
   "cell_type": "markdown",
   "id": "1d9fedac-fa21-4705-bce6-87eae2129109",
   "metadata": {
    "panel-layout": {
     "height": 44.083343505859375,
     "visible": true,
     "width": 100
    }
   },
   "source": [
    "### Training our model"
   ]
  },
  {
   "cell_type": "code",
   "execution_count": 12,
   "id": "633d703a-8a36-46f6-a98d-045f74201b15",
   "metadata": {
    "panel-layout": {
     "height": 370,
     "visible": true,
     "width": 100
    }
   },
   "outputs": [
    {
     "name": "stdout",
     "output_type": "stream",
     "text": [
      "Coefficient :  [[-5.51297576e+10 -6.30703248e-01  9.44178654e-01  1.20486901e-01\n",
      "   4.81979434e-01  1.59112334e-01 -6.27555694e+08 -6.62741653e+09\n",
      "   4.31933030e+10 -8.01616303e+08  7.59651656e+10 -9.73144770e+10\n",
      "   4.53484955e+10  9.04425144e+00 -1.75369692e+01 -4.50379086e+00\n",
      "  -8.92092896e+00  8.41084886e+00 -1.25101288e+09 -7.66203480e+08\n",
      "  -1.44221347e+09 -9.33008396e+08 -1.00124260e+09 -8.55588501e+08\n",
      "  -5.75358141e+08 -6.21943760e+00  4.34707842e+01  4.54008389e+00\n",
      "  -1.28293481e+01 -2.01647571e+09 -1.23502380e+09 -2.32466701e+09\n",
      "  -1.50389239e+09 -1.61387735e+09 -1.37910123e+09 -9.27405074e+08\n",
      "  -2.37784939e+01  5.51243758e+00  3.28903913e+00  8.10638470e+08\n",
      "   4.96488900e+08  9.34533706e+08  6.04576107e+08  6.48790890e+08\n",
      "   5.54409118e+08  3.72823850e+08 -9.09348488e-01  6.11333847e-01\n",
      "  -4.21266497e+09 -2.58011615e+09 -4.85651442e+09 -3.14181559e+09\n",
      "  -3.37158766e+09 -2.88111157e+09 -1.93746291e+09  2.11600184e-01\n",
      "  -2.83363574e+09 -1.73550695e+09 -3.26671903e+09 -2.11333229e+09\n",
      "  -2.26788775e+09 -1.93797056e+09 -1.30322829e+09  1.94635095e+10\n",
      "   1.16815443e+10 -2.12031209e+10  3.66904997e+10 -1.49135103e+10\n",
      "   3.57692225e+10 -1.90454405e+10  1.30526199e+10  8.18487257e+09\n",
      "   1.70150094e+10 -2.32676316e+10  4.41220382e+10  7.16387656e+08\n",
      "  -2.25480220e+10  3.21057744e+09 -2.71774745e+10  9.72919703e+10\n",
      "  -5.11215580e+10  2.06532917e+10 -1.14339149e+10  4.38976557e+10\n",
      "  -8.89163746e+09 -3.96056381e+10  2.45169175e+10 -8.96801234e+09\n",
      "   8.40569711e+10  1.81323061e+10 -1.70854849e+10]]\n",
      "Intercept :  [1.67748488e+10]\n"
     ]
    }
   ],
   "source": [
    "model = LinearRegression().fit(X_train, y_train)\n",
    "\n",
    "print('Coefficient : ', model.coef_)\n",
    "print('Intercept : ', model.intercept_)"
   ]
  },
  {
   "cell_type": "markdown",
   "id": "8ee977ab-27d9-4afc-87c5-ce4faf1b0b7a",
   "metadata": {
    "panel-layout": {
     "height": 44.08332824707031,
     "visible": true,
     "width": 100
    }
   },
   "source": [
    "### Evaluating our model"
   ]
  },
  {
   "cell_type": "code",
   "execution_count": 13,
   "id": "41613f1a-7f3a-4cc3-a233-0f4622f21496",
   "metadata": {
    "panel-layout": {
     "height": 370,
     "visible": true,
     "width": 100
    }
   },
   "outputs": [
    {
     "name": "stdout",
     "output_type": "stream",
     "text": [
      "R2 score            =  0.9837339644936193\n",
      "Mean absolute error =  0.08798502680184045\n",
      "Mean squared error  =  0.014989961866414582\n"
     ]
    }
   ],
   "source": [
    "y_hat = model.predict(X_test)\n",
    "\n",
    "model_evaluation(y_test, y_hat)"
   ]
  },
  {
   "cell_type": "markdown",
   "id": "66793a9f-1aba-4daf-8343-eb73e2a02804",
   "metadata": {
    "panel-layout": {
     "height": 51.91667175292969,
     "visible": true,
     "width": 100
    }
   },
   "source": [
    "---\n",
    "<center>\n",
    "    <h3>\n",
    "        <i>\n",
    "            This concludes the notebook. Feel free to reach out with any questions or suggestions!\n",
    "        </i>\n",
    "    </h3>\n",
    "</center>"
   ]
  }
 ],
 "metadata": {
  "kernelspec": {
   "display_name": "Python 3 (ipykernel)",
   "language": "python",
   "name": "python3"
  },
  "language_info": {
   "codemirror_mode": {
    "name": "ipython",
    "version": 3
   },
   "file_extension": ".py",
   "mimetype": "text/x-python",
   "name": "python",
   "nbconvert_exporter": "python",
   "pygments_lexer": "ipython3",
   "version": "3.11.9"
  },
  "panel-cell-order": [
   "1255cda1-dc79-4f02-b7f0-29c7f41aa9da",
   "8438598f-920f-47d8-98eb-2195e70b4f8b",
   "2c2df962-37ee-4959-a9d3-d1d49505abd9",
   "9d67a9dd-5aac-490b-b49c-fb67caf0a592",
   "9eb325e8-886f-4b8d-8627-1e4dd488046a",
   "6ea48b42-c1e4-4392-8dd8-c74da01429a8",
   "5e9b8b01-ad87-4180-b0d2-fbd6790ddac6",
   "b32e66bd-95b8-4692-9940-cc68811fbed5",
   "17db8631-ad13-4c5d-b89c-ce2195d2acc6",
   "32d79381-2e58-4508-a409-41901eb63ac5",
   "eff774cf-ad4b-4dbb-b8b2-63931bf0e51d",
   "bb3f5912-0c17-4224-bb05-3b5209aa758f",
   "38a16bad-f360-4de5-9a2a-5177b3d53cae",
   "756afae4-2a96-49bd-b9b1-384c1dfaf86b",
   "acefdffe-8909-4eac-b8e4-e2c27a80ca3a",
   "fd6ab299-9e37-4446-8e77-386b9d438514",
   "3a647304-8628-4357-aa3f-8237057bf92b",
   "1d9fedac-fa21-4705-bce6-87eae2129109",
   "633d703a-8a36-46f6-a98d-045f74201b15",
   "8ee977ab-27d9-4afc-87c5-ce4faf1b0b7a",
   "41613f1a-7f3a-4cc3-a233-0f4622f21496",
   "66793a9f-1aba-4daf-8343-eb73e2a02804"
  ]
 },
 "nbformat": 4,
 "nbformat_minor": 5
}
